{
 "cells": [
  {
   "cell_type": "code",
   "execution_count": 2,
   "id": "8b3c3795-51c3-4509-957c-714d9fc80922",
   "metadata": {},
   "outputs": [
    {
     "name": "stdout",
     "output_type": "stream",
     "text": [
      "R-squared (Model Score): -0.2607232887701718\n"
     ]
    },
    {
     "name": "stdin",
     "output_type": "stream",
     "text": [
      "Enter the year:  1962\n",
      "Enter the area:  India\n",
      "Enter the pesticides value:  14785\n",
      "Enter the average rainfall (mm/year):  85\n",
      "Enter the average temperature (°C):  25\n"
     ]
    },
    {
     "name": "stdout",
     "output_type": "stream",
     "text": [
      "Prediction: 75150.33333333333\n"
     ]
    },
    {
     "name": "stdin",
     "output_type": "stream",
     "text": [
      "Do you want to Continue?: (yes/no) no\n"
     ]
    }
   ],
   "source": [
    "import pandas as pd\n",
    "import numpy as np\n",
    "from sklearn.model_selection import train_test_split\n",
    "from sklearn.tree import DecisionTreeRegressor\n",
    "from sklearn.metrics import mean_squared_error, mean_absolute_error, r2_score\n",
    "from sklearn.preprocessing import StandardScaler, LabelEncoder\n",
    "\n",
    "def perform_decision_tree_regression():\n",
    "    # Load datasets\n",
    "    pesticides_df = pd.read_csv('pesticides.csv')\n",
    "    rainfall_df = pd.read_csv('rainfall.csv')\n",
    "    temp_df = pd.read_csv('temp.csv')\n",
    "    yield_df = pd.read_csv('yield.csv')\n",
    "\n",
    "    # Merge datasets based on 'Year' and 'Area'\n",
    "    merged_df = pd.merge(pesticides_df, rainfall_df, on=['Year', 'Area'], how='inner')\n",
    "    merged_df = pd.merge(merged_df, temp_df, left_on=['Year', 'Area'], right_on=['year', 'country'], how='inner')\n",
    "    merged_df = pd.merge(merged_df, yield_df, left_on=['Year', 'Area'], right_on=['Year', 'Area'], how='inner')\n",
    "\n",
    "    # Clean data\n",
    "    merged_df.replace('..', np.nan, inplace=True)\n",
    "    merged_df.dropna(inplace=True)\n",
    "\n",
    "    # Encode categorical data\n",
    "    label_encoder = LabelEncoder()\n",
    "    merged_df['Area'] = label_encoder.fit_transform(merged_df['Area'])\n",
    "\n",
    "    # Prepare features and target\n",
    "    X = merged_df[['Year', 'Area', 'Value_x', 'average_rain_fall_mm_per_year', 'avg_temp']]\n",
    "    y = merged_df['Value_y']\n",
    "\n",
    "    # Split data into training and testing sets\n",
    "    X_train, X_test, y_train, y_test = train_test_split(X, y, test_size=0.2, random_state=42)\n",
    "\n",
    "    # Train Decision Tree regression model\n",
    "    decision_tree_regressor = DecisionTreeRegressor(random_state=42)\n",
    "    decision_tree_regressor.fit(X_train, y_train)\n",
    "\n",
    "    # Make predictions\n",
    "    predictions = decision_tree_regressor.predict(X_test)\n",
    "\n",
    "    # Calculate evaluation metrics\n",
    "    mse = mean_squared_error(y_test, predictions)\n",
    "    mae = mean_absolute_error(y_test, predictions)\n",
    "    r2 = r2_score(y_test, predictions)\n",
    "\n",
    "    # print(\"Mean Squared Error (MSE):\", mse)\n",
    "    # print(\"Mean Absolute Error (MAE):\", mae)\n",
    "    print(\"R-squared (Model Score):\", r2)\n",
    "    \n",
    "    import warnings\n",
    "    warnings.filterwarnings('ignore')\n",
    "\n",
    "    # Take user input for parameters\n",
    "    while True:\n",
    "        year = int(input(\"Enter the year: \"))\n",
    "        area = label_encoder.transform([input(\"Enter the area: \")])[0]\n",
    "        pesticides = float(input(\"Enter the pesticides value: \"))\n",
    "        rainfall = float(input(\"Enter the average rainfall (mm/year): \"))\n",
    "        temperature = float(input(\"Enter the average temperature (°C): \"))\n",
    "\n",
    "        # Make prediction for user input\n",
    "        prediction = decision_tree_regressor.predict([[year, area, pesticides, rainfall, temperature]])\n",
    "        print(\"Prediction:\", prediction[0])\n",
    "        \n",
    "        cont_input=input(\"Do you want to Continue?: (yes/no)\")\n",
    "        if cont_input.lower()!='yes':\n",
    "            break\n",
    "\n",
    "# Call the function to perform Decision Tree regression and make predictions\n",
    "perform_decision_tree_regression()\n"
   ]
  }
 ],
 "metadata": {
  "kernelspec": {
   "display_name": "Python 3 (ipykernel)",
   "language": "python",
   "name": "python3"
  },
  "language_info": {
   "codemirror_mode": {
    "name": "ipython",
    "version": 3
   },
   "file_extension": ".py",
   "mimetype": "text/x-python",
   "name": "python",
   "nbconvert_exporter": "python",
   "pygments_lexer": "ipython3",
   "version": "3.12.1"
  }
 },
 "nbformat": 4,
 "nbformat_minor": 5
}
